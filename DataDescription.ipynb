{
 "cells": [
  {
   "cell_type": "markdown",
   "source": [
    "# The statistical description of global financial market data sets"
   ],
   "metadata": {
    "collapsed": false
   }
  },
  {
   "cell_type": "code",
   "execution_count": 6,
   "outputs": [
    {
     "data": {
      "text/plain": "   Development Status    Country Abbr.  bond_mean  bond_std  bond_skewness  \\\n0           Developed  Australia   AUS   0.003187  0.117504       9.681040   \n1           Developed     Canada   CAN   0.001584  0.046192       0.800811   \n2           Developed     France   FRA   0.005426  0.170705      13.196873   \n3           Developed    Germany   GER   0.006079  0.221393       2.487509   \n4           Developed      Japan   JPN  -0.012250  0.439003      -3.824476   \n5           Developed  Singapore   SIN   0.076777  1.519243      20.299172   \n6           Developed         UK    UK   0.031137  1.336239       8.892021   \n7           Developed         US    US   0.003243  0.062341       1.035097   \n8            Emerging  Argentina   ARG   0.004333  0.086376       2.858757   \n9            Emerging     Brazil   BRA   0.000434  0.019803       3.348850   \n10           Emerging      China   CHN   0.000210  0.018755       1.877083   \n11           Emerging      India   IND   0.000036  0.013608       0.704202   \n12           Emerging      Korea   KOR   0.000051  0.016953       0.635137   \n13           Emerging     Mexico   MEX   0.000405  0.008715       0.028441   \n14           Emerging     Russia   RUS   0.000647  0.034486       1.396044   \n15           Emerging   Thailand   THA   0.000592  0.050283      31.974394   \n\n    bond_jb_statistic  forex_mean  forex_std  forex_skewness  \\\n0        8.441812e+06   -0.000179   0.006667       -0.360408   \n1        6.759023e+04    0.000133   0.004413        0.030983   \n2        2.065538e+07   -0.000049   0.004990        0.018653   \n3        5.605657e+05   -0.000081   0.005031        0.003220   \n4        1.823185e+07    0.000192   0.006036       -0.383432   \n5        1.987357e+07    0.000036   0.003063       -0.006993   \n6        2.198389e+07   -0.000104   0.005895       -1.047412   \n7        9.686200e+03    0.000093   0.004289       -0.070177   \n8        9.704178e+04    0.001511   0.011230       16.337846   \n9        3.023997e+05    0.000430   0.009533        0.201679   \n10       8.587694e+04    0.000054   0.002481        0.025457   \n11       2.264274e+04    0.000171   0.004217        0.615655   \n12       3.695580e+03    0.000095   0.005400       -0.287394   \n13       1.511945e+05    0.000154   0.007458        0.847841   \n14       1.146792e+06    0.000448   0.012929        2.686922   \n15       1.559410e+08    0.000062   0.003230        0.025085   \n\n    forex_jb_statistic  stock_mean  stock_std  stock_skewness  \\\n0              7990.78    0.000129   0.009775       -1.023322   \n1               191.44    0.000174   0.009519       -1.628103   \n2               455.79    0.000217   0.012186       -0.815440   \n3               437.03    0.000225   0.012464       -0.578915   \n4              3391.42    0.000439   0.013166       -0.253419   \n5               508.59   -0.000012   0.008160       -0.573210   \n6             29087.38    0.000041   0.009914       -0.899025   \n7               452.84    0.000410   0.011072       -0.825537   \n8          18357355.00    0.001956   0.025521       -2.953755   \n9              1924.49    0.000189   0.016035       -0.893846   \n10             3529.08    0.000096   0.014010       -0.655277   \n11             9928.27    0.000429   0.010827       -1.322333   \n12              842.82    0.000046   0.009846       -0.252897   \n13             7372.49    0.000072   0.009843       -0.352902   \n14           239325.28    0.000240   0.015885       -6.709743   \n15              525.04    0.000092   0.010157       -1.395020   \n\n    stock_jb_statistic  gold_mean  gold_std  gold_skewness  gold_jb_statistic  \n0             16513.61   0.000226  0.009562      -0.109245            3332.39  \n1            177051.14   0.000159  0.009396      -0.315834            4213.61  \n2             11500.85   0.000189  0.008783       0.016548            2075.80  \n3              9803.38   0.000191  0.008822       0.015815            2048.30  \n4              1834.64   0.000251  0.008887      -0.772885           15019.75  \n5              8808.45   0.000087  0.008822      -0.841807           15032.28  \n6             18582.31   0.000174  0.010003       0.499088           20929.87  \n7             29415.01   0.000051  0.009485      -0.509578            5900.76  \n8            279818.06   0.001564  0.014337       4.526026          615882.34  \n9             16573.22   0.000399  0.013945       0.176613            1178.47  \n10             3013.04   0.000139  0.009314      -0.681653            6809.61  \n11            36467.40   0.000255  0.009770      -0.353601            4602.16  \n12             6683.29   0.000193  0.010152      -0.361455            4572.63  \n13             1174.86   0.000181  0.011496       0.112798            3127.66  \n14          3407229.66   0.000486  0.016313       2.190926          214543.10  \n15            31763.26   0.000099  0.009004      -0.049944            1272.15  ",
      "text/html": "<div>\n<style scoped>\n    .dataframe tbody tr th:only-of-type {\n        vertical-align: middle;\n    }\n\n    .dataframe tbody tr th {\n        vertical-align: top;\n    }\n\n    .dataframe thead th {\n        text-align: right;\n    }\n</style>\n<table border=\"1\" class=\"dataframe\">\n  <thead>\n    <tr style=\"text-align: right;\">\n      <th></th>\n      <th>Development Status</th>\n      <th>Country</th>\n      <th>Abbr.</th>\n      <th>bond_mean</th>\n      <th>bond_std</th>\n      <th>bond_skewness</th>\n      <th>bond_jb_statistic</th>\n      <th>forex_mean</th>\n      <th>forex_std</th>\n      <th>forex_skewness</th>\n      <th>forex_jb_statistic</th>\n      <th>stock_mean</th>\n      <th>stock_std</th>\n      <th>stock_skewness</th>\n      <th>stock_jb_statistic</th>\n      <th>gold_mean</th>\n      <th>gold_std</th>\n      <th>gold_skewness</th>\n      <th>gold_jb_statistic</th>\n    </tr>\n  </thead>\n  <tbody>\n    <tr>\n      <th>0</th>\n      <td>Developed</td>\n      <td>Australia</td>\n      <td>AUS</td>\n      <td>0.003187</td>\n      <td>0.117504</td>\n      <td>9.681040</td>\n      <td>8.441812e+06</td>\n      <td>-0.000179</td>\n      <td>0.006667</td>\n      <td>-0.360408</td>\n      <td>7990.78</td>\n      <td>0.000129</td>\n      <td>0.009775</td>\n      <td>-1.023322</td>\n      <td>16513.61</td>\n      <td>0.000226</td>\n      <td>0.009562</td>\n      <td>-0.109245</td>\n      <td>3332.39</td>\n    </tr>\n    <tr>\n      <th>1</th>\n      <td>Developed</td>\n      <td>Canada</td>\n      <td>CAN</td>\n      <td>0.001584</td>\n      <td>0.046192</td>\n      <td>0.800811</td>\n      <td>6.759023e+04</td>\n      <td>0.000133</td>\n      <td>0.004413</td>\n      <td>0.030983</td>\n      <td>191.44</td>\n      <td>0.000174</td>\n      <td>0.009519</td>\n      <td>-1.628103</td>\n      <td>177051.14</td>\n      <td>0.000159</td>\n      <td>0.009396</td>\n      <td>-0.315834</td>\n      <td>4213.61</td>\n    </tr>\n    <tr>\n      <th>2</th>\n      <td>Developed</td>\n      <td>France</td>\n      <td>FRA</td>\n      <td>0.005426</td>\n      <td>0.170705</td>\n      <td>13.196873</td>\n      <td>2.065538e+07</td>\n      <td>-0.000049</td>\n      <td>0.004990</td>\n      <td>0.018653</td>\n      <td>455.79</td>\n      <td>0.000217</td>\n      <td>0.012186</td>\n      <td>-0.815440</td>\n      <td>11500.85</td>\n      <td>0.000189</td>\n      <td>0.008783</td>\n      <td>0.016548</td>\n      <td>2075.80</td>\n    </tr>\n    <tr>\n      <th>3</th>\n      <td>Developed</td>\n      <td>Germany</td>\n      <td>GER</td>\n      <td>0.006079</td>\n      <td>0.221393</td>\n      <td>2.487509</td>\n      <td>5.605657e+05</td>\n      <td>-0.000081</td>\n      <td>0.005031</td>\n      <td>0.003220</td>\n      <td>437.03</td>\n      <td>0.000225</td>\n      <td>0.012464</td>\n      <td>-0.578915</td>\n      <td>9803.38</td>\n      <td>0.000191</td>\n      <td>0.008822</td>\n      <td>0.015815</td>\n      <td>2048.30</td>\n    </tr>\n    <tr>\n      <th>4</th>\n      <td>Developed</td>\n      <td>Japan</td>\n      <td>JPN</td>\n      <td>-0.012250</td>\n      <td>0.439003</td>\n      <td>-3.824476</td>\n      <td>1.823185e+07</td>\n      <td>0.000192</td>\n      <td>0.006036</td>\n      <td>-0.383432</td>\n      <td>3391.42</td>\n      <td>0.000439</td>\n      <td>0.013166</td>\n      <td>-0.253419</td>\n      <td>1834.64</td>\n      <td>0.000251</td>\n      <td>0.008887</td>\n      <td>-0.772885</td>\n      <td>15019.75</td>\n    </tr>\n    <tr>\n      <th>5</th>\n      <td>Developed</td>\n      <td>Singapore</td>\n      <td>SIN</td>\n      <td>0.076777</td>\n      <td>1.519243</td>\n      <td>20.299172</td>\n      <td>1.987357e+07</td>\n      <td>0.000036</td>\n      <td>0.003063</td>\n      <td>-0.006993</td>\n      <td>508.59</td>\n      <td>-0.000012</td>\n      <td>0.008160</td>\n      <td>-0.573210</td>\n      <td>8808.45</td>\n      <td>0.000087</td>\n      <td>0.008822</td>\n      <td>-0.841807</td>\n      <td>15032.28</td>\n    </tr>\n    <tr>\n      <th>6</th>\n      <td>Developed</td>\n      <td>UK</td>\n      <td>UK</td>\n      <td>0.031137</td>\n      <td>1.336239</td>\n      <td>8.892021</td>\n      <td>2.198389e+07</td>\n      <td>-0.000104</td>\n      <td>0.005895</td>\n      <td>-1.047412</td>\n      <td>29087.38</td>\n      <td>0.000041</td>\n      <td>0.009914</td>\n      <td>-0.899025</td>\n      <td>18582.31</td>\n      <td>0.000174</td>\n      <td>0.010003</td>\n      <td>0.499088</td>\n      <td>20929.87</td>\n    </tr>\n    <tr>\n      <th>7</th>\n      <td>Developed</td>\n      <td>US</td>\n      <td>US</td>\n      <td>0.003243</td>\n      <td>0.062341</td>\n      <td>1.035097</td>\n      <td>9.686200e+03</td>\n      <td>0.000093</td>\n      <td>0.004289</td>\n      <td>-0.070177</td>\n      <td>452.84</td>\n      <td>0.000410</td>\n      <td>0.011072</td>\n      <td>-0.825537</td>\n      <td>29415.01</td>\n      <td>0.000051</td>\n      <td>0.009485</td>\n      <td>-0.509578</td>\n      <td>5900.76</td>\n    </tr>\n    <tr>\n      <th>8</th>\n      <td>Emerging</td>\n      <td>Argentina</td>\n      <td>ARG</td>\n      <td>0.004333</td>\n      <td>0.086376</td>\n      <td>2.858757</td>\n      <td>9.704178e+04</td>\n      <td>0.001511</td>\n      <td>0.011230</td>\n      <td>16.337846</td>\n      <td>18357355.00</td>\n      <td>0.001956</td>\n      <td>0.025521</td>\n      <td>-2.953755</td>\n      <td>279818.06</td>\n      <td>0.001564</td>\n      <td>0.014337</td>\n      <td>4.526026</td>\n      <td>615882.34</td>\n    </tr>\n    <tr>\n      <th>9</th>\n      <td>Emerging</td>\n      <td>Brazil</td>\n      <td>BRA</td>\n      <td>0.000434</td>\n      <td>0.019803</td>\n      <td>3.348850</td>\n      <td>3.023997e+05</td>\n      <td>0.000430</td>\n      <td>0.009533</td>\n      <td>0.201679</td>\n      <td>1924.49</td>\n      <td>0.000189</td>\n      <td>0.016035</td>\n      <td>-0.893846</td>\n      <td>16573.22</td>\n      <td>0.000399</td>\n      <td>0.013945</td>\n      <td>0.176613</td>\n      <td>1178.47</td>\n    </tr>\n    <tr>\n      <th>10</th>\n      <td>Emerging</td>\n      <td>China</td>\n      <td>CHN</td>\n      <td>0.000210</td>\n      <td>0.018755</td>\n      <td>1.877083</td>\n      <td>8.587694e+04</td>\n      <td>0.000054</td>\n      <td>0.002481</td>\n      <td>0.025457</td>\n      <td>3529.08</td>\n      <td>0.000096</td>\n      <td>0.014010</td>\n      <td>-0.655277</td>\n      <td>3013.04</td>\n      <td>0.000139</td>\n      <td>0.009314</td>\n      <td>-0.681653</td>\n      <td>6809.61</td>\n    </tr>\n    <tr>\n      <th>11</th>\n      <td>Emerging</td>\n      <td>India</td>\n      <td>IND</td>\n      <td>0.000036</td>\n      <td>0.013608</td>\n      <td>0.704202</td>\n      <td>2.264274e+04</td>\n      <td>0.000171</td>\n      <td>0.004217</td>\n      <td>0.615655</td>\n      <td>9928.27</td>\n      <td>0.000429</td>\n      <td>0.010827</td>\n      <td>-1.322333</td>\n      <td>36467.40</td>\n      <td>0.000255</td>\n      <td>0.009770</td>\n      <td>-0.353601</td>\n      <td>4602.16</td>\n    </tr>\n    <tr>\n      <th>12</th>\n      <td>Emerging</td>\n      <td>Korea</td>\n      <td>KOR</td>\n      <td>0.000051</td>\n      <td>0.016953</td>\n      <td>0.635137</td>\n      <td>3.695580e+03</td>\n      <td>0.000095</td>\n      <td>0.005400</td>\n      <td>-0.287394</td>\n      <td>842.82</td>\n      <td>0.000046</td>\n      <td>0.009846</td>\n      <td>-0.252897</td>\n      <td>6683.29</td>\n      <td>0.000193</td>\n      <td>0.010152</td>\n      <td>-0.361455</td>\n      <td>4572.63</td>\n    </tr>\n    <tr>\n      <th>13</th>\n      <td>Emerging</td>\n      <td>Mexico</td>\n      <td>MEX</td>\n      <td>0.000405</td>\n      <td>0.008715</td>\n      <td>0.028441</td>\n      <td>1.511945e+05</td>\n      <td>0.000154</td>\n      <td>0.007458</td>\n      <td>0.847841</td>\n      <td>7372.49</td>\n      <td>0.000072</td>\n      <td>0.009843</td>\n      <td>-0.352902</td>\n      <td>1174.86</td>\n      <td>0.000181</td>\n      <td>0.011496</td>\n      <td>0.112798</td>\n      <td>3127.66</td>\n    </tr>\n    <tr>\n      <th>14</th>\n      <td>Emerging</td>\n      <td>Russia</td>\n      <td>RUS</td>\n      <td>0.000647</td>\n      <td>0.034486</td>\n      <td>1.396044</td>\n      <td>1.146792e+06</td>\n      <td>0.000448</td>\n      <td>0.012929</td>\n      <td>2.686922</td>\n      <td>239325.28</td>\n      <td>0.000240</td>\n      <td>0.015885</td>\n      <td>-6.709743</td>\n      <td>3407229.66</td>\n      <td>0.000486</td>\n      <td>0.016313</td>\n      <td>2.190926</td>\n      <td>214543.10</td>\n    </tr>\n    <tr>\n      <th>15</th>\n      <td>Emerging</td>\n      <td>Thailand</td>\n      <td>THA</td>\n      <td>0.000592</td>\n      <td>0.050283</td>\n      <td>31.974394</td>\n      <td>1.559410e+08</td>\n      <td>0.000062</td>\n      <td>0.003230</td>\n      <td>0.025085</td>\n      <td>525.04</td>\n      <td>0.000092</td>\n      <td>0.010157</td>\n      <td>-1.395020</td>\n      <td>31763.26</td>\n      <td>0.000099</td>\n      <td>0.009004</td>\n      <td>-0.049944</td>\n      <td>1272.15</td>\n    </tr>\n  </tbody>\n</table>\n</div>"
     },
     "execution_count": 6,
     "metadata": {},
     "output_type": "execute_result"
    }
   ],
   "source": [
    "import pandas as pd\n",
    "from scipy.stats import jarque_bera\n",
    "\n",
    "developed_countries = ['AUS', 'CAN', 'FRA', 'GER', 'JPN', 'SIN', 'UK', 'US']\n",
    "emerging_countries = ['ARG', 'BRA', 'CHN', 'IND', 'KOR', 'MEX', 'RUS', 'THA']\n",
    "\n",
    "# Preparing a DataFrame for the results\n",
    "columns = ['Development Status','Country' ,'Abbr.'] + [f'{market}_{stat}' for market in ['bond', 'forex', 'stock', 'gold'] for stat in ['mean', 'std', 'skewness', 'jb_statistic']]\n",
    "stats_df = pd.DataFrame(columns=columns)\n",
    "\n",
    "# Function to calculate statistics for each country\n",
    "def calculate_statistics(country_code):\n",
    "    country_dict={\n",
    "    'ARG': 'Argentina',\n",
    "    'AUS': 'Australia',\n",
    "    'BRA': 'Brazil',\n",
    "    'CAN': 'Canada',\n",
    "    'CHN': 'China',\n",
    "    'FRA': 'France',\n",
    "    'GER': 'Germany',\n",
    "    'IND': 'India',\n",
    "    'JPN': 'Japan',\n",
    "    'KOR': 'Korea',\n",
    "    'MEX': 'Mexico',\n",
    "    'RUS': 'Russia',\n",
    "    'SIN': 'Singapore',\n",
    "    'THA': 'Thailand',\n",
    "    'UK': 'UK',\n",
    "    'US': 'US'}\n",
    "\n",
    "    # Load the data\n",
    "    file_path = f'Data/output_lgr/{country_dict[country_code]}.csv'  # Modify the path to your files\n",
    "    df = pd.read_csv(file_path)\n",
    "\n",
    "    # Initialize a list for the row\n",
    "    stats_row = ['Developed' if country_code in developed_countries else 'Emerging',country_dict[country_code],country_code]\n",
    "\n",
    "    # Calculate statistics for each market\n",
    "    for column in ['rate', 'exchange', 'stock', 'gold']:\n",
    "        mean = df[column].mean()\n",
    "        std = df[column].std()\n",
    "        skewness = df[column].skew()\n",
    "        jb_statistic, _ = jarque_bera(df[column])\n",
    "\n",
    "        # Append results to the stats_row list\n",
    "        stats_row.extend([mean, std, skewness, jb_statistic])\n",
    "\n",
    "    return stats_row\n",
    "\n",
    "# Iterate over all countries and calculate statistics\n",
    "for country in developed_countries + emerging_countries:\n",
    "    stats_row = calculate_statistics(country)\n",
    "    stats_df.loc[len(stats_df)] = stats_row  # Add the new row to the DataFrame\n",
    "\n",
    "# Rounding the values for better readability\n",
    "for col in stats_df.columns:\n",
    "    if 'mean' in col or 'std' in col or 'skewness' in col:\n",
    "        stats_df[col] = stats_df[col].round(6)\n",
    "    elif 'jb_statistic' in col:\n",
    "        stats_df[col] = stats_df[col].round(2)\n",
    "\n",
    "stats_df.to_csv('DataAnalysis/DataDescription/statistic analysis.csv')\n",
    "stats_df"
   ],
   "metadata": {
    "collapsed": false
   }
  },
  {
   "cell_type": "code",
   "execution_count": 6,
   "outputs": [],
   "source": [],
   "metadata": {
    "collapsed": false
   }
  },
  {
   "cell_type": "markdown",
   "source": [
    "# ADF test"
   ],
   "metadata": {
    "collapsed": false
   }
  },
  {
   "cell_type": "code",
   "execution_count": 7,
   "outputs": [
    {
     "data": {
      "text/plain": "   Country Market  ADF Statistic       p-value  Stationary\n0      AUS   bond      -9.727395  9.196097e-17        True\n1      AUS  forex     -53.634612  0.000000e+00        True\n2      AUS  stock     -14.140147  2.253531e-26        True\n3      AUS   gold     -53.890572  0.000000e+00        True\n4      CAN   bond      -8.868435  1.419414e-14        True\n..     ...    ...            ...           ...         ...\n59     RUS   gold      -9.710807  1.012798e-16        True\n60     THA   bond     -24.367915  0.000000e+00        True\n61     THA  forex     -24.733150  0.000000e+00        True\n62     THA  stock     -10.720480  3.160308e-19        True\n63     THA   gold     -11.302793  1.295045e-20        True\n\n[64 rows x 5 columns]",
      "text/html": "<div>\n<style scoped>\n    .dataframe tbody tr th:only-of-type {\n        vertical-align: middle;\n    }\n\n    .dataframe tbody tr th {\n        vertical-align: top;\n    }\n\n    .dataframe thead th {\n        text-align: right;\n    }\n</style>\n<table border=\"1\" class=\"dataframe\">\n  <thead>\n    <tr style=\"text-align: right;\">\n      <th></th>\n      <th>Country</th>\n      <th>Market</th>\n      <th>ADF Statistic</th>\n      <th>p-value</th>\n      <th>Stationary</th>\n    </tr>\n  </thead>\n  <tbody>\n    <tr>\n      <th>0</th>\n      <td>AUS</td>\n      <td>bond</td>\n      <td>-9.727395</td>\n      <td>9.196097e-17</td>\n      <td>True</td>\n    </tr>\n    <tr>\n      <th>1</th>\n      <td>AUS</td>\n      <td>forex</td>\n      <td>-53.634612</td>\n      <td>0.000000e+00</td>\n      <td>True</td>\n    </tr>\n    <tr>\n      <th>2</th>\n      <td>AUS</td>\n      <td>stock</td>\n      <td>-14.140147</td>\n      <td>2.253531e-26</td>\n      <td>True</td>\n    </tr>\n    <tr>\n      <th>3</th>\n      <td>AUS</td>\n      <td>gold</td>\n      <td>-53.890572</td>\n      <td>0.000000e+00</td>\n      <td>True</td>\n    </tr>\n    <tr>\n      <th>4</th>\n      <td>CAN</td>\n      <td>bond</td>\n      <td>-8.868435</td>\n      <td>1.419414e-14</td>\n      <td>True</td>\n    </tr>\n    <tr>\n      <th>...</th>\n      <td>...</td>\n      <td>...</td>\n      <td>...</td>\n      <td>...</td>\n      <td>...</td>\n    </tr>\n    <tr>\n      <th>59</th>\n      <td>RUS</td>\n      <td>gold</td>\n      <td>-9.710807</td>\n      <td>1.012798e-16</td>\n      <td>True</td>\n    </tr>\n    <tr>\n      <th>60</th>\n      <td>THA</td>\n      <td>bond</td>\n      <td>-24.367915</td>\n      <td>0.000000e+00</td>\n      <td>True</td>\n    </tr>\n    <tr>\n      <th>61</th>\n      <td>THA</td>\n      <td>forex</td>\n      <td>-24.733150</td>\n      <td>0.000000e+00</td>\n      <td>True</td>\n    </tr>\n    <tr>\n      <th>62</th>\n      <td>THA</td>\n      <td>stock</td>\n      <td>-10.720480</td>\n      <td>3.160308e-19</td>\n      <td>True</td>\n    </tr>\n    <tr>\n      <th>63</th>\n      <td>THA</td>\n      <td>gold</td>\n      <td>-11.302793</td>\n      <td>1.295045e-20</td>\n      <td>True</td>\n    </tr>\n  </tbody>\n</table>\n<p>64 rows × 5 columns</p>\n</div>"
     },
     "execution_count": 7,
     "metadata": {},
     "output_type": "execute_result"
    }
   ],
   "source": [
    "import pandas as pd\n",
    "from statsmodels.tsa.stattools import adfuller\n",
    "\n",
    "developed_countries = ['AUS', 'CAN', 'FRA', 'GER', 'JPN', 'SIN', 'UK', 'US']\n",
    "emerging_countries = ['ARG', 'BRA', 'CHN', 'IND', 'KOR', 'MEX', 'RUS', 'THA']\n",
    "\n",
    "# Initial an empty DataFrame to store results\n",
    "all_adf_results = []\n",
    "\n",
    "# ADF function\n",
    "def perform_adf_test(series):\n",
    "    adf_result = adfuller(series, autolag='AIC')\n",
    "    adf_statistic = adf_result[0]\n",
    "    p_value = adf_result[1]\n",
    "    stationary = p_value < 0.05  # 使用 5% 显著性水平\n",
    "    return adf_statistic, p_value, stationary\n",
    "\n",
    "# Run ADF test for every country\n",
    "for country in developed_countries + emerging_countries:\n",
    "    country_dict={\n",
    "    'ARG': 'Argentina',\n",
    "    'AUS': 'Australia',\n",
    "    'BRA': 'Brazil',\n",
    "    'CAN': 'Canada',\n",
    "    'CHN': 'China',\n",
    "    'FRA': 'France',\n",
    "    'GER': 'Germany',\n",
    "    'IND': 'India',\n",
    "    'JPN': 'Japan',\n",
    "    'KOR': 'Korea',\n",
    "    'MEX': 'Mexico',\n",
    "    'RUS': 'Russia',\n",
    "    'SIN': 'Singapore',\n",
    "    'THA': 'Thailand',\n",
    "    'UK': 'UK',\n",
    "    'US': 'US'}\n",
    "    file_path = f'Data/output_lgr/{country_dict[country]}.csv'\n",
    "    df = pd.read_csv(file_path)\n",
    "\n",
    "    market_name={\n",
    "        'rate': 'bond',\n",
    "        'exchange': 'forex',\n",
    "        'stock': 'stock',\n",
    "        'gold': 'gold'\n",
    "    }\n",
    "\n",
    "\n",
    "    for market in ['rate', 'exchange', 'stock', 'gold']:\n",
    "        adf_statistic, p_value, stationary = perform_adf_test(df[market])\n",
    "        temp_df = pd.DataFrame({'Country': [country], 'Market': market_name[market], 'ADF Statistic': [adf_statistic], 'p-value': [p_value], 'Stationary': [stationary]})\n",
    "        all_adf_results.append(temp_df)\n",
    "\n",
    "# merge all results\n",
    "adf_stats_df = pd.concat(all_adf_results, ignore_index=True)\n",
    "\n",
    "# output the results\n",
    "adf_stats_df.round(6)  # 将结果四舍五入，保留六位小数\n",
    "adf_stats_df.to_csv('DataAnalysis/DataDescription/ADF test.csv')\n",
    "adf_stats_df"
   ],
   "metadata": {
    "collapsed": false
   }
  },
  {
   "cell_type": "code",
   "execution_count": 7,
   "outputs": [],
   "source": [],
   "metadata": {
    "collapsed": false
   }
  }
 ],
 "metadata": {
  "kernelspec": {
   "display_name": "Python 3",
   "language": "python",
   "name": "python3"
  },
  "language_info": {
   "codemirror_mode": {
    "name": "ipython",
    "version": 2
   },
   "file_extension": ".py",
   "mimetype": "text/x-python",
   "name": "python",
   "nbconvert_exporter": "python",
   "pygments_lexer": "ipython2",
   "version": "2.7.6"
  }
 },
 "nbformat": 4,
 "nbformat_minor": 0
}
